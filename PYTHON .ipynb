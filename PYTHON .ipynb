{
  "nbformat": 4,
  "nbformat_minor": 0,
  "metadata": {
    "colab": {
      "provenance": [],
      "authorship_tag": "ABX9TyM3aSSJVDhYigw8R8cQAsFD",
      "include_colab_link": true
    },
    "kernelspec": {
      "name": "python3",
      "display_name": "Python 3"
    },
    "language_info": {
      "name": "python"
    }
  },
  "cells": [
    {
      "cell_type": "markdown",
      "metadata": {
        "id": "view-in-github",
        "colab_type": "text"
      },
      "source": [
        "<a href=\"https://colab.research.google.com/github/pearl24680/python-practice/blob/main/PYTHON%20.ipynb\" target=\"_parent\"><img src=\"https://colab.research.google.com/assets/colab-badge.svg\" alt=\"Open In Colab\"/></a>"
      ]
    },
    {
      "cell_type": "code",
      "execution_count": 1,
      "metadata": {
        "colab": {
          "base_uri": "https://localhost:8080/"
        },
        "id": "BtiLMPNRDTLD",
        "outputId": "5b42dd5b-a4aa-46f2-dde8-93ffa9c2ca67"
      },
      "outputs": [
        {
          "output_type": "stream",
          "name": "stdout",
          "text": [
            "Enter the first number: 3\n",
            "Enter the second number: 5\n",
            "8\n"
          ]
        }
      ],
      "source": [
        "a = int(input(\"Enter the first number: \"))\n",
        "b = int(input(\"Enter the second number: \"))\n",
        "c = a+b\n",
        "print(c)"
      ]
    },
    {
      "cell_type": "code",
      "source": [
        "print (\"Hello World\")"
      ],
      "metadata": {
        "colab": {
          "base_uri": "https://localhost:8080/"
        },
        "id": "JXOoKQSKDqU-",
        "outputId": "189ffa50-9db1-4a4c-d044-5dfc5ddd926f"
      },
      "execution_count": 8,
      "outputs": [
        {
          "output_type": "stream",
          "name": "stdout",
          "text": [
            "Hello World\n"
          ]
        }
      ]
    },
    {
      "cell_type": "code",
      "source": [
        "import math\n",
        "num = int(input(\"enter a number here :\"))\n",
        "sr = math.sqrt(num)\n",
        "print(\"the square root of the given number is \",sr)"
      ],
      "metadata": {
        "colab": {
          "base_uri": "https://localhost:8080/"
        },
        "id": "uMqPWyXnDvML",
        "outputId": "ae923604-55e9-407c-bbe2-ca0c475e05f2"
      },
      "execution_count": 13,
      "outputs": [
        {
          "output_type": "stream",
          "name": "stdout",
          "text": [
            "enter a number here :64\n",
            "the square root of the given number is  8.0\n"
          ]
        }
      ]
    },
    {
      "cell_type": "code",
      "source": [
        "l = int(input(\"enter the length of the rectangle :\"))\n",
        "b = int(input(\"enter the breadth of the rectangle :\"))\n",
        "area = l*b\n",
        "print (area)"
      ],
      "metadata": {
        "colab": {
          "base_uri": "https://localhost:8080/"
        },
        "id": "ULrUUW7yHJ4Y",
        "outputId": "11366cdd-4289-41ba-89a9-ce623f565a5d"
      },
      "execution_count": 14,
      "outputs": [
        {
          "output_type": "stream",
          "name": "stdout",
          "text": [
            "enter the length of the rectangle :5\n",
            "enter the breadth of the rectangle :2\n",
            "10\n"
          ]
        }
      ]
    },
    {
      "cell_type": "code",
      "source": [
        "x =int(input(\"enter the value of x :\"))\n",
        "y=int(input(\"enter the value of y :\"))\n",
        "temp = x\n",
        "print (\"the value of temp variable is\",temp)\n",
        "x = y\n",
        "print(\"the value of x is\",x)\n",
        "y = temp\n",
        "print(\"the value of y is\",y)\n",
        "\n"
      ],
      "metadata": {
        "colab": {
          "base_uri": "https://localhost:8080/"
        },
        "id": "nimBhEzVHYPh",
        "outputId": "a10933bf-ac8a-4791-af06-b8bc9513c37c"
      },
      "execution_count": 17,
      "outputs": [
        {
          "output_type": "stream",
          "name": "stdout",
          "text": [
            "enter the value of x :8\n",
            "enter the value of y :0\n",
            "the value of temp variable is 8\n",
            "the value of x is 0\n",
            "the value of y is 8\n"
          ]
        }
      ]
    },
    {
      "cell_type": "code",
      "source": [
        "km = float(input(\"enter the value in km :\"))\n",
        "m = km*0.621371\n",
        "print(\"the value in miles is\",m)\n",
        "\n"
      ],
      "metadata": {
        "colab": {
          "base_uri": "https://localhost:8080/"
        },
        "id": "y-sBKftJIgFw",
        "outputId": "fb400f51-a107-429d-fd45-b2ddad5254ab"
      },
      "execution_count": 18,
      "outputs": [
        {
          "output_type": "stream",
          "name": "stdout",
          "text": [
            "enter the value in km :7\n",
            "the value in miles is 4.349597\n"
          ]
        }
      ]
    },
    {
      "cell_type": "code",
      "source": [
        "a = int (input(\"enter the number:\"))\n",
        "if a>0:\n",
        "  print(\"the number is positive\")\n",
        "elif a<0:\n",
        "  print(\"the number is negative\")\n",
        "else:\n",
        "  print(\"the number is zero\")"
      ],
      "metadata": {
        "colab": {
          "base_uri": "https://localhost:8080/"
        },
        "id": "U8ROJ3hrI5bI",
        "outputId": "32ec35d8-7d81-4127-d371-9fc06b183c88"
      },
      "execution_count": 19,
      "outputs": [
        {
          "output_type": "stream",
          "name": "stdout",
          "text": [
            "enter the number:6\n",
            "the number is positive\n"
          ]
        }
      ]
    },
    {
      "cell_type": "code",
      "source": [
        "a = int (input(\"Enter the no.:\"))\n",
        "if a % 2 == 0:\n",
        "  print(\"the number is even\")\n",
        "else:\n",
        "  print(\"the number is odd\")"
      ],
      "metadata": {
        "colab": {
          "base_uri": "https://localhost:8080/"
        },
        "id": "DD4zFhGySMT4",
        "outputId": "f504e721-c2b8-4eda-985a-c38f92514a35"
      },
      "execution_count": 21,
      "outputs": [
        {
          "name": "stdout",
          "output_type": "stream",
          "text": [
            "Enter the no.:22\n",
            "the number is even\n",
            "Enter the no.:98\n"
          ]
        }
      ]
    },
    {
      "cell_type": "code",
      "source": [
        "a = int(input(\"enter the year:\"))\n",
        "if a % 4 == 0:\n",
        "  print(\"the year is a leap year\")\n",
        "else:\n",
        "    print(\"the year is not a leap year\")"
      ],
      "metadata": {
        "colab": {
          "base_uri": "https://localhost:8080/"
        },
        "id": "iC-oQBcqUJM1",
        "outputId": "ed29ab2c-d476-48a6-f761-7be1375cb59d"
      },
      "execution_count": 24,
      "outputs": [
        {
          "output_type": "stream",
          "name": "stdout",
          "text": [
            "enter the year:2003\n",
            "the year is not a leap year\n"
          ]
        }
      ]
    }
  ]
}