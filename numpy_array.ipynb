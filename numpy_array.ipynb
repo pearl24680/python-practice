{
  "nbformat": 4,
  "nbformat_minor": 0,
  "metadata": {
    "colab": {
      "provenance": [],
      "authorship_tag": "ABX9TyOsuOMrws7YnTy8VkEuZ6KB",
      "include_colab_link": true
    },
    "kernelspec": {
      "name": "python3",
      "display_name": "Python 3"
    },
    "language_info": {
      "name": "python"
    }
  },
  "cells": [
    {
      "cell_type": "markdown",
      "metadata": {
        "id": "view-in-github",
        "colab_type": "text"
      },
      "source": [
        "<a href=\"https://colab.research.google.com/github/pearl24680/python-practice/blob/main/numpy_array.ipynb\" target=\"_parent\"><img src=\"https://colab.research.google.com/assets/colab-badge.svg\" alt=\"Open In Colab\"/></a>"
      ]
    },
    {
      "cell_type": "code",
      "execution_count": 1,
      "metadata": {
        "colab": {
          "base_uri": "https://localhost:8080/"
        },
        "id": "0vKhtSAiuK0A",
        "outputId": "9ac46281-4487-4f33-a908-b3e624be812d"
      },
      "outputs": [
        {
          "output_type": "stream",
          "name": "stdout",
          "text": [
            "[1 2 3]\n"
          ]
        }
      ],
      "source": [
        "import numpy as np\n",
        "a = np.array([1,2,3])\n",
        "print(a)"
      ]
    },
    {
      "cell_type": "code",
      "source": [
        "print (type(a))"
      ],
      "metadata": {
        "colab": {
          "base_uri": "https://localhost:8080/"
        },
        "id": "ah7Sfhmfu1TF",
        "outputId": "9b99cadf-6583-49cc-a7ce-2a8090b78ffa"
      },
      "execution_count": 2,
      "outputs": [
        {
          "output_type": "stream",
          "name": "stdout",
          "text": [
            "<class 'numpy.ndarray'>\n"
          ]
        }
      ]
    },
    {
      "cell_type": "code",
      "source": [
        "l = []\n",
        "for i in range(1,8):\n",
        "    j = int(input(\"enter a no. :\"))\n",
        "    l.append(j)\n",
        ""
      ],
      "metadata": {
        "colab": {
          "base_uri": "https://localhost:8080/"
        },
        "id": "YBVkvQ5Ru-_a",
        "outputId": "470195d7-b879-4a1d-c72b-867ca38bb999"
      },
      "execution_count": 3,
      "outputs": [
        {
          "name": "stdout",
          "output_type": "stream",
          "text": [
            "enter a no. :10\n",
            "enter a no. :20\n",
            "enter a no. :3\n",
            "enter a no. :45\n",
            "enter a no. :354\n",
            "enter a no. :34\n",
            "enter a no. :34\n"
          ]
        }
      ]
    },
    {
      "cell_type": "code",
      "source": [
        "print(l)"
      ],
      "metadata": {
        "colab": {
          "base_uri": "https://localhost:8080/"
        },
        "id": "zoexf84gvmLS",
        "outputId": "b0cc87bc-c48d-42d8-b0d8-2e995fee9a2f"
      },
      "execution_count": 4,
      "outputs": [
        {
          "output_type": "stream",
          "name": "stdout",
          "text": [
            "[10, 20, 3, 45, 354, 34, 34]\n"
          ]
        }
      ]
    },
    {
      "cell_type": "code",
      "source": [
        "print(type(l))"
      ],
      "metadata": {
        "colab": {
          "base_uri": "https://localhost:8080/"
        },
        "id": "cnThmhsYvo6S",
        "outputId": "e7d51203-65a5-4fd2-dd87-45bcfabb47ca"
      },
      "execution_count": 5,
      "outputs": [
        {
          "output_type": "stream",
          "name": "stdout",
          "text": [
            "<class 'list'>\n"
          ]
        }
      ]
    },
    {
      "cell_type": "code",
      "source": [
        "b = np.array(l)\n",
        "print(b)"
      ],
      "metadata": {
        "colab": {
          "base_uri": "https://localhost:8080/"
        },
        "id": "pqaooctKvrs2",
        "outputId": "c2d30a41-8790-46da-ca87-bc0dc14c51ca"
      },
      "execution_count": 6,
      "outputs": [
        {
          "output_type": "stream",
          "name": "stdout",
          "text": [
            "[ 10  20   3  45 354  34  34]\n"
          ]
        }
      ]
    },
    {
      "cell_type": "code",
      "source": [
        "print(type(b))"
      ],
      "metadata": {
        "colab": {
          "base_uri": "https://localhost:8080/"
        },
        "id": "HBeTNftlv1et",
        "outputId": "43221373-cce4-4bc4-da91-a2a2c776f478"
      },
      "execution_count": 7,
      "outputs": [
        {
          "output_type": "stream",
          "name": "stdout",
          "text": [
            "<class 'numpy.ndarray'>\n"
          ]
        }
      ]
    },
    {
      "cell_type": "markdown",
      "source": [
        "dimension we check from brackets"
      ],
      "metadata": {
        "id": "H7lJwqNIv5-6"
      }
    },
    {
      "cell_type": "code",
      "source": [
        "print(b.ndim)"
      ],
      "metadata": {
        "colab": {
          "base_uri": "https://localhost:8080/"
        },
        "id": "-h1yvoXGv5V-",
        "outputId": "44bae0d9-f354-4dc0-ea32-d524d1af10cf"
      },
      "execution_count": 8,
      "outputs": [
        {
          "output_type": "stream",
          "name": "stdout",
          "text": [
            "1\n"
          ]
        }
      ]
    },
    {
      "cell_type": "markdown",
      "source": [
        "create 2d array"
      ],
      "metadata": {
        "id": "ohufkBYBwKjE"
      }
    },
    {
      "cell_type": "code",
      "source": [
        "c = [[10,20,30],[40,50,60]]\n",
        "print(c)"
      ],
      "metadata": {
        "colab": {
          "base_uri": "https://localhost:8080/"
        },
        "id": "kprjQrvGwHXK",
        "outputId": "15a09a5b-0487-40fe-e6ad-6c7ad4ae278e"
      },
      "execution_count": 9,
      "outputs": [
        {
          "output_type": "stream",
          "name": "stdout",
          "text": [
            "[[10, 20, 30], [40, 50, 60]]\n"
          ]
        }
      ]
    },
    {
      "cell_type": "code",
      "source": [
        "d = np.array(c)"
      ],
      "metadata": {
        "id": "Ic17lQYCwWs-"
      },
      "execution_count": 10,
      "outputs": []
    },
    {
      "cell_type": "code",
      "source": [
        "print(d)"
      ],
      "metadata": {
        "colab": {
          "base_uri": "https://localhost:8080/"
        },
        "id": "V8O47NI2warz",
        "outputId": "b7f252c4-1791-4553-957c-a1b755323ef6"
      },
      "execution_count": 11,
      "outputs": [
        {
          "output_type": "stream",
          "name": "stdout",
          "text": [
            "[[10 20 30]\n",
            " [40 50 60]]\n"
          ]
        }
      ]
    },
    {
      "cell_type": "code",
      "source": [
        "print(d.ndim)"
      ],
      "metadata": {
        "colab": {
          "base_uri": "https://localhost:8080/"
        },
        "id": "KxZ8kdeUwc62",
        "outputId": "12d426a4-4f41-4204-a49a-6641944e2e77"
      },
      "execution_count": 12,
      "outputs": [
        {
          "output_type": "stream",
          "name": "stdout",
          "text": [
            "2\n"
          ]
        }
      ]
    },
    {
      "cell_type": "code",
      "source": [
        "oa = np.ones(8)\n",
        "print(oa)"
      ],
      "metadata": {
        "colab": {
          "base_uri": "https://localhost:8080/"
        },
        "id": "-zoeEtY1wiEo",
        "outputId": "3df14da0-d810-4c0d-d972-f3a0c6f5bdb8"
      },
      "execution_count": 13,
      "outputs": [
        {
          "output_type": "stream",
          "name": "stdout",
          "text": [
            "[1. 1. 1. 1. 1. 1. 1. 1.]\n"
          ]
        }
      ]
    },
    {
      "cell_type": "code",
      "source": [
        "em = np.empty(9)\n",
        "print(em)"
      ],
      "metadata": {
        "colab": {
          "base_uri": "https://localhost:8080/"
        },
        "id": "CnDxAiu8ywU1",
        "outputId": "eed24bd5-3735-415a-a8a6-1926fff12de3"
      },
      "execution_count": 16,
      "outputs": [
        {
          "output_type": "stream",
          "name": "stdout",
          "text": [
            "[4.76026186e-310 0.00000000e+000 0.00000000e+000 0.00000000e+000\n",
            " 0.00000000e+000 0.00000000e+000 0.00000000e+000 0.00000000e+000\n",
            " 0.00000000e+000]\n"
          ]
        }
      ]
    },
    {
      "cell_type": "code",
      "source": [
        "r = np.arange(2)\n",
        "print(r)"
      ],
      "metadata": {
        "colab": {
          "base_uri": "https://localhost:8080/"
        },
        "id": "bF62-ZqnzLtt",
        "outputId": "afcee895-5c1e-4ddf-ff31-b31316cd6b8b"
      },
      "execution_count": 19,
      "outputs": [
        {
          "output_type": "stream",
          "name": "stdout",
          "text": [
            "[0 1]\n"
          ]
        }
      ]
    },
    {
      "cell_type": "code",
      "source": [
        "i = np.identity(3) #eye or identity same\n",
        "print(i)"
      ],
      "metadata": {
        "colab": {
          "base_uri": "https://localhost:8080/"
        },
        "id": "1SM-2bNFznWu",
        "outputId": "cf46d0d5-489a-4fe5-9a1c-c7f77444227f"
      },
      "execution_count": 21,
      "outputs": [
        {
          "output_type": "stream",
          "name": "stdout",
          "text": [
            "[[1. 0. 0.]\n",
            " [0. 1. 0.]\n",
            " [0. 0. 1.]]\n"
          ]
        }
      ]
    },
    {
      "cell_type": "code",
      "source": [
        "ar = np.linspace(10,20,num=15)\n",
        "print(ar)"
      ],
      "metadata": {
        "colab": {
          "base_uri": "https://localhost:8080/"
        },
        "id": "aA8pkd_4z5Kg",
        "outputId": "4ec56774-3a19-4ba8-bd5b-0ecbb5d62f2d"
      },
      "execution_count": 22,
      "outputs": [
        {
          "output_type": "stream",
          "name": "stdout",
          "text": [
            "[10.         10.71428571 11.42857143 12.14285714 12.85714286 13.57142857\n",
            " 14.28571429 15.         15.71428571 16.42857143 17.14285714 17.85714286\n",
            " 18.57142857 19.28571429 20.        ]\n"
          ]
        }
      ]
    },
    {
      "cell_type": "code",
      "source": [
        "rn = np.random.rand(2,15)\n",
        "print(rn)"
      ],
      "metadata": {
        "colab": {
          "base_uri": "https://localhost:8080/"
        },
        "id": "juQu0am70Xay",
        "outputId": "1225e5ce-5b7b-48f5-be51-66b16815a8ce"
      },
      "execution_count": 25,
      "outputs": [
        {
          "output_type": "stream",
          "name": "stdout",
          "text": [
            "[[0.40452063 0.34188573 0.75444154 0.99793705 0.79227068 0.77978084\n",
            "  0.31561569 0.82096831 0.44305765 0.29977125 0.13327785 0.90912604\n",
            "  0.10929171 0.00887223 0.70527678]\n",
            " [0.6712515  0.08011032 0.25142761 0.89307933 0.33997768 0.50469332\n",
            "  0.93840562 0.06060073 0.51028066 0.86293833 0.9175205  0.76608841\n",
            "  0.88431189 0.81213386 0.96662858]]\n"
          ]
        }
      ]
    },
    {
      "cell_type": "code",
      "source": [
        "rn = np.random.randn(2,15)\n",
        "print(rn)"
      ],
      "metadata": {
        "colab": {
          "base_uri": "https://localhost:8080/"
        },
        "id": "FpcoDCwl0m6s",
        "outputId": "6a5be5b0-b340-4490-fd14-ddb5a79e9a83"
      },
      "execution_count": 26,
      "outputs": [
        {
          "output_type": "stream",
          "name": "stdout",
          "text": [
            "[[-0.42968144  0.70965886  0.59147638 -0.88588236 -1.14049016 -0.19589922\n",
            "  -0.90155872  1.23718088  1.44606777 -0.61897176  2.27410215  0.54166847\n",
            "   0.27090779  0.94999501 -0.37553892]\n",
            " [ 1.57069365  0.40003095 -1.0496397  -0.15498507 -1.88576588  0.32183678\n",
            "  -0.81895515 -0.83859565  0.93869446 -1.62038508  0.37419121 -0.88394158\n",
            "   0.29392345  1.8308425  -0.3621263 ]]\n"
          ]
        }
      ]
    },
    {
      "cell_type": "code",
      "source": [
        "rf = np.random.ranf(4)\n",
        "print(rf)"
      ],
      "metadata": {
        "colab": {
          "base_uri": "https://localhost:8080/"
        },
        "id": "rWDXfLZm1RuR",
        "outputId": "5082cca1-96e8-450c-d7b8-4420a6c792d9"
      },
      "execution_count": 28,
      "outputs": [
        {
          "output_type": "stream",
          "name": "stdout",
          "text": [
            "[0.68298312 0.34819293 0.83854808 0.73616904]\n"
          ]
        }
      ]
    },
    {
      "cell_type": "code",
      "source": [
        "ri = np.random.randint(10)\n",
        "print(ri)"
      ],
      "metadata": {
        "colab": {
          "base_uri": "https://localhost:8080/"
        },
        "id": "oc1SyTfi1iJv",
        "outputId": "7778ab4b-38cd-4563-f9d5-32264935a4f0"
      },
      "execution_count": 29,
      "outputs": [
        {
          "output_type": "stream",
          "name": "stdout",
          "text": [
            "9\n"
          ]
        }
      ]
    },
    {
      "cell_type": "code",
      "source": [
        "var = np.array([10,20,30,40,50,60])\n",
        "print(var)"
      ],
      "metadata": {
        "colab": {
          "base_uri": "https://localhost:8080/"
        },
        "id": "ZMNHAQGg1n3r",
        "outputId": "9efbe004-6be3-4fad-ca91-96ea82b91df9"
      },
      "execution_count": 30,
      "outputs": [
        {
          "output_type": "stream",
          "name": "stdout",
          "text": [
            "[10 20 30 40 50 60]\n"
          ]
        }
      ]
    },
    {
      "cell_type": "code",
      "source": [
        "print(var.dtype)"
      ],
      "metadata": {
        "colab": {
          "base_uri": "https://localhost:8080/"
        },
        "id": "TB4D4Iit19oM",
        "outputId": "1df8b36f-71e8-4e07-cb97-8462531d53f9"
      },
      "execution_count": 31,
      "outputs": [
        {
          "output_type": "stream",
          "name": "stdout",
          "text": [
            "int64\n"
          ]
        }
      ]
    },
    {
      "cell_type": "code",
      "source": [
        "a = np.array([10,20,30,40,50,60],dtype=np.int8)\n",
        "print(a)"
      ],
      "metadata": {
        "colab": {
          "base_uri": "https://localhost:8080/"
        },
        "id": "iNRFyeKl2CN_",
        "outputId": "44d4da8e-b79c-49f7-ee1a-bf3407954ea5"
      },
      "execution_count": 32,
      "outputs": [
        {
          "output_type": "stream",
          "name": "stdout",
          "text": [
            "[10 20 30 40 50 60]\n"
          ]
        }
      ]
    },
    {
      "cell_type": "code",
      "source": [
        "print(type(a))"
      ],
      "metadata": {
        "colab": {
          "base_uri": "https://localhost:8080/"
        },
        "id": "6lf6xXgk2Ktu",
        "outputId": "a076f305-322f-4179-8a3a-35c2004ee0a3"
      },
      "execution_count": 33,
      "outputs": [
        {
          "output_type": "stream",
          "name": "stdout",
          "text": [
            "<class 'numpy.ndarray'>\n"
          ]
        }
      ]
    },
    {
      "cell_type": "code",
      "source": [
        "var1 = np.array([\"a\",\"b\",\"c\"])\n",
        "print(var1.dtype)"
      ],
      "metadata": {
        "colab": {
          "base_uri": "https://localhost:8080/"
        },
        "id": "p76lFLQ72PIM",
        "outputId": "03d9d589-08ff-4130-bc7f-308e55d7d8d2"
      },
      "execution_count": 34,
      "outputs": [
        {
          "output_type": "stream",
          "name": "stdout",
          "text": [
            "<U1\n"
          ]
        }
      ]
    },
    {
      "cell_type": "code",
      "source": [
        "x = np.array(var, dtype=\"f\")\n",
        "print(x)"
      ],
      "metadata": {
        "colab": {
          "base_uri": "https://localhost:8080/"
        },
        "id": "fCWfM5hO2p2h",
        "outputId": "9e4d6bd5-0661-44df-a586-e3d612911214"
      },
      "execution_count": 38,
      "outputs": [
        {
          "output_type": "stream",
          "name": "stdout",
          "text": [
            "[10. 20. 30. 40. 50. 60.]\n"
          ]
        }
      ]
    },
    {
      "cell_type": "code",
      "source": [
        "print(type(x))"
      ],
      "metadata": {
        "colab": {
          "base_uri": "https://localhost:8080/"
        },
        "id": "Ww8iSwHd3dJx",
        "outputId": "09c103a9-5282-45ef-e1a0-fa96ce8ef911"
      },
      "execution_count": 39,
      "outputs": [
        {
          "output_type": "stream",
          "name": "stdout",
          "text": [
            "<class 'numpy.ndarray'>\n"
          ]
        }
      ]
    },
    {
      "cell_type": "code",
      "source": [
        "nw =np.float64(var)\n",
        "print(nw.dtype)"
      ],
      "metadata": {
        "colab": {
          "base_uri": "https://localhost:8080/"
        },
        "id": "87VVEz7w3hwo",
        "outputId": "8fd23a55-25a3-4928-91b9-119882750402"
      },
      "execution_count": 40,
      "outputs": [
        {
          "output_type": "stream",
          "name": "stdout",
          "text": [
            "float64\n"
          ]
        }
      ]
    },
    {
      "cell_type": "code",
      "source": [
        "nn =np.float32(var)\n",
        "print(nn.dtype)"
      ],
      "metadata": {
        "colab": {
          "base_uri": "https://localhost:8080/"
        },
        "id": "wCnNZDH17H7m",
        "outputId": "69441b75-e842-452f-99d7-39f6e0ab496b"
      },
      "execution_count": 41,
      "outputs": [
        {
          "output_type": "stream",
          "name": "stdout",
          "text": [
            "float32\n"
          ]
        }
      ]
    },
    {
      "cell_type": "code",
      "source": [
        "import numpy as np\n",
        "v=np.array([[[[]]]])\n",
        "print(v.ndim)"
      ],
      "metadata": {
        "colab": {
          "base_uri": "https://localhost:8080/"
        },
        "id": "yV-YM1TQ-jPi",
        "outputId": "ace14374-3515-4ba0-c490-dab1f116c2d6"
      },
      "execution_count": 44,
      "outputs": [
        {
          "output_type": "stream",
          "name": "stdout",
          "text": [
            "4\n"
          ]
        }
      ]
    },
    {
      "cell_type": "code",
      "source": [
        "print(v.shape)"
      ],
      "metadata": {
        "colab": {
          "base_uri": "https://localhost:8080/"
        },
        "id": "Ypyj2uUR_wCB",
        "outputId": "7b82baec-21ea-4d5e-8d4f-edadafee5334"
      },
      "execution_count": 45,
      "outputs": [
        {
          "output_type": "stream",
          "name": "stdout",
          "text": [
            "(1, 1, 1, 0)\n"
          ]
        }
      ]
    },
    {
      "cell_type": "code",
      "source": [],
      "metadata": {
        "id": "4bgGVGv6_6Dc"
      },
      "execution_count": null,
      "outputs": []
    }
  ]
}