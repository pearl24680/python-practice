{
  "nbformat": 4,
  "nbformat_minor": 0,
  "metadata": {
    "colab": {
      "provenance": []
    },
    "kernelspec": {
      "name": "python3",
      "display_name": "Python 3"
    },
    "language_info": {
      "name": "python"
    }
  },
  "cells": [
    {
      "cell_type": "markdown",
      "source": [
        "loop of even no."
      ],
      "metadata": {
        "id": "KbjGSMS1n4Mg"
      }
    },
    {
      "cell_type": "code",
      "execution_count": 7,
      "metadata": {
        "colab": {
          "base_uri": "https://localhost:8080/"
        },
        "id": "cd1hVR7LnS_F",
        "outputId": "181da2a9-816e-45ad-860b-a7e2e1616226"
      },
      "outputs": [
        {
          "output_type": "stream",
          "name": "stdout",
          "text": [
            "0\n",
            "2\n",
            "4\n",
            "6\n",
            "8\n",
            "10\n",
            "12\n",
            "14\n",
            "16\n",
            "18\n",
            "20\n"
          ]
        }
      ],
      "source": [
        "for i in range (0,22,2):\n",
        "    print(i)"
      ]
    },
    {
      "cell_type": "markdown",
      "source": [
        "loop in odd no."
      ],
      "metadata": {
        "id": "d2eYY7kkoBpR"
      }
    },
    {
      "cell_type": "code",
      "source": [
        "for i in range (1,33,2):\n",
        "  print(i)"
      ],
      "metadata": {
        "colab": {
          "base_uri": "https://localhost:8080/"
        },
        "id": "giaGLPS5oD4l",
        "outputId": "51ac2a45-80f9-486b-af43-610cf72aeac7"
      },
      "execution_count": 11,
      "outputs": [
        {
          "output_type": "stream",
          "name": "stdout",
          "text": [
            "1\n",
            "3\n",
            "5\n",
            "7\n",
            "9\n",
            "11\n",
            "13\n",
            "15\n",
            "17\n",
            "19\n",
            "21\n",
            "23\n",
            "25\n",
            "27\n",
            "29\n",
            "31\n"
          ]
        }
      ]
    },
    {
      "cell_type": "markdown",
      "source": [
        "first 10 natural no"
      ],
      "metadata": {
        "id": "DEux_hBnoUx6"
      }
    },
    {
      "cell_type": "code",
      "source": [
        "for i in range (1,11):\n",
        "  print(i)"
      ],
      "metadata": {
        "colab": {
          "base_uri": "https://localhost:8080/"
        },
        "id": "PfAzM46GoZyM",
        "outputId": "70780c94-80fd-4972-d362-8a6d237612e0"
      },
      "execution_count": 12,
      "outputs": [
        {
          "output_type": "stream",
          "name": "stdout",
          "text": [
            "1\n",
            "2\n",
            "3\n",
            "4\n",
            "5\n",
            "6\n",
            "7\n",
            "8\n",
            "9\n",
            "10\n"
          ]
        }
      ]
    },
    {
      "cell_type": "markdown",
      "source": [
        "first 10 whole no."
      ],
      "metadata": {
        "id": "-oIf77R3ohXD"
      }
    },
    {
      "cell_type": "code",
      "source": [
        "for i in range (0,11):\n",
        "  print(i)"
      ],
      "metadata": {
        "colab": {
          "base_uri": "https://localhost:8080/"
        },
        "id": "llJNn8NqoofQ",
        "outputId": "5bdffcb2-e3a0-4d26-d752-9cda5b01a180"
      },
      "execution_count": 14,
      "outputs": [
        {
          "output_type": "stream",
          "name": "stdout",
          "text": [
            "0\n",
            "1\n",
            "2\n",
            "3\n",
            "4\n",
            "5\n",
            "6\n",
            "7\n",
            "8\n",
            "9\n",
            "10\n"
          ]
        }
      ]
    },
    {
      "cell_type": "markdown",
      "source": [
        "write a program to pint first 10 integers and there squares\n"
      ],
      "metadata": {
        "id": "n631Wxkfoxh8"
      }
    },
    {
      "cell_type": "code",
      "source": [
        "print(\"first ten integers\")\n",
        "for i in range (1,11):\n",
        "  print(i**2)"
      ],
      "metadata": {
        "colab": {
          "base_uri": "https://localhost:8080/"
        },
        "id": "smkSNqIzo8CP",
        "outputId": "17a124d5-9721-4cfa-8e7a-57be89343257"
      },
      "execution_count": 16,
      "outputs": [
        {
          "output_type": "stream",
          "name": "stdout",
          "text": [
            "first ten integers\n",
            "1\n",
            "4\n",
            "9\n",
            "16\n",
            "25\n",
            "36\n",
            "49\n",
            "64\n",
            "81\n",
            "100\n"
          ]
        }
      ]
    },
    {
      "cell_type": "markdown",
      "source": [
        "write a loop statement to print the following statement    10,20,30,......300"
      ],
      "metadata": {
        "id": "5yqhJKL7pPji"
      }
    },
    {
      "cell_type": "code",
      "source": [
        "for i in range (1,31):\n",
        "  print(i*10)"
      ],
      "metadata": {
        "colab": {
          "base_uri": "https://localhost:8080/"
        },
        "collapsed": true,
        "id": "ih1PbJhypgod",
        "outputId": "3b022c77-6d6f-4e3f-92e3-3b55dc76a5ad"
      },
      "execution_count": 17,
      "outputs": [
        {
          "output_type": "stream",
          "name": "stdout",
          "text": [
            "10\n",
            "20\n",
            "30\n",
            "40\n",
            "50\n",
            "60\n",
            "70\n",
            "80\n",
            "90\n",
            "100\n",
            "110\n",
            "120\n",
            "130\n",
            "140\n",
            "150\n",
            "160\n",
            "170\n",
            "180\n",
            "190\n",
            "200\n",
            "210\n",
            "220\n",
            "230\n",
            "240\n",
            "250\n",
            "260\n",
            "270\n",
            "280\n",
            "290\n",
            "300\n"
          ]
        }
      ]
    },
    {
      "cell_type": "markdown",
      "source": [
        "write a loop statement to print the following series 105,98,91,........7"
      ],
      "metadata": {
        "id": "_7EYMBPVp152"
      }
    },
    {
      "cell_type": "code",
      "source": [
        "for i in range (105,6,-7):\n",
        "  print( i,end='')"
      ],
      "metadata": {
        "colab": {
          "base_uri": "https://localhost:8080/"
        },
        "id": "doqYqKe8qAwl",
        "outputId": "95bef18b-f850-46e9-8173-8c88cb2447f5"
      },
      "execution_count": 20,
      "outputs": [
        {
          "output_type": "stream",
          "name": "stdout",
          "text": [
            "105989184777063564942352821147"
          ]
        }
      ]
    },
    {
      "cell_type": "markdown",
      "source": [
        "write a program to print first 10 natural numbers in reverse order"
      ],
      "metadata": {
        "id": "u11EjjS1qmD5"
      }
    },
    {
      "cell_type": "code",
      "source": [
        "for i in range (10,0,-1):\n",
        "  print(i)"
      ],
      "metadata": {
        "colab": {
          "base_uri": "https://localhost:8080/"
        },
        "id": "vsUGeTlnqvwD",
        "outputId": "b673c6cf-c391-4bbd-9870-4f2d70792577"
      },
      "execution_count": 24,
      "outputs": [
        {
          "output_type": "stream",
          "name": "stdout",
          "text": [
            "10\n",
            "9\n",
            "8\n",
            "7\n",
            "6\n",
            "5\n",
            "4\n",
            "3\n",
            "2\n",
            "1\n"
          ]
        }
      ]
    },
    {
      "cell_type": "markdown",
      "source": [
        "write a program to print sum of first natual no."
      ],
      "metadata": {
        "id": "8ZAy_5DcrAfZ"
      }
    },
    {
      "cell_type": "code",
      "source": [
        "sum = 0\n",
        "for i in range(1,11):\n",
        "  sum = sum+i\n",
        "  print(sum)"
      ],
      "metadata": {
        "colab": {
          "base_uri": "https://localhost:8080/"
        },
        "id": "ej2zILDBrJBt",
        "outputId": "6c899473-e1b3-4706-9eb8-089ab1688455"
      },
      "execution_count": 25,
      "outputs": [
        {
          "output_type": "stream",
          "name": "stdout",
          "text": [
            "1\n",
            "3\n",
            "6\n",
            "10\n",
            "15\n",
            "21\n",
            "28\n",
            "36\n",
            "45\n",
            "55\n"
          ]
        }
      ]
    },
    {
      "cell_type": "markdown",
      "source": [
        "write a program to print  sum of first even no."
      ],
      "metadata": {
        "id": "UlJngvExrYPy"
      }
    },
    {
      "cell_type": "code",
      "source": [
        "for i in range (2,22,2):\n",
        "  sum = sum+i\n",
        "  print (sum)"
      ],
      "metadata": {
        "colab": {
          "base_uri": "https://localhost:8080/"
        },
        "id": "nHkMnNknrgOG",
        "outputId": "c17d7cf2-ed94-44b8-fe8a-30c9524c1f9b"
      },
      "execution_count": 28,
      "outputs": [
        {
          "output_type": "stream",
          "name": "stdout",
          "text": [
            "112\n",
            "116\n",
            "122\n",
            "130\n",
            "140\n",
            "152\n",
            "166\n",
            "182\n",
            "200\n",
            "220\n"
          ]
        }
      ]
    },
    {
      "cell_type": "markdown",
      "source": [
        "wrint a program to print the table entered by user"
      ],
      "metadata": {
        "id": "tATXjK6vr1Sv"
      }
    },
    {
      "cell_type": "code",
      "source": [
        "print (\"enter the table =\" \"\")\n",
        "table = int(input())\n",
        "for i in range (1,11):\n",
        "  print(table*i)"
      ],
      "metadata": {
        "colab": {
          "base_uri": "https://localhost:8080/"
        },
        "id": "AX_r8qAyr9Ax",
        "outputId": "70623024-b224-4831-86d0-504dad433214"
      },
      "execution_count": 32,
      "outputs": [
        {
          "output_type": "stream",
          "name": "stdout",
          "text": [
            "enter the table =\n",
            "2\n",
            "2\n",
            "4\n",
            "6\n",
            "8\n",
            "10\n",
            "12\n",
            "14\n",
            "16\n",
            "18\n",
            "20\n"
          ]
        }
      ]
    },
    {
      "cell_type": "markdown",
      "source": [
        "write a program to display all even no. that fall btw two no. (exclusive) both no. entered by users"
      ],
      "metadata": {
        "id": "gCkupnIaseWd"
      }
    },
    {
      "cell_type": "code",
      "source": [
        "num1 =(int(input(\"Enter the number num 1\")))\n",
        "num2 =(int(input(\"Enter the number num 2\")))\n",
        "if (num1 > num2):\n",
        "  for i in range(num2 +1,num1):\n",
        "    if i%2 == 0:\n",
        "     print(i)\n",
        "    else :\n",
        "     for i in range(num1 +1,num2):\n",
        "      if i%2 ==0:\n",
        "\n",
        "       print(i)\n",
        "\n"
      ],
      "metadata": {
        "colab": {
          "base_uri": "https://localhost:8080/"
        },
        "id": "bH6umB_8sved",
        "outputId": "fd221ee4-88de-4e6d-a25d-9240204a0090"
      },
      "execution_count": 37,
      "outputs": [
        {
          "output_type": "stream",
          "name": "stdout",
          "text": [
            "Enter the number num 178\n",
            "Enter the number num 209\n",
            "10\n",
            "12\n",
            "14\n",
            "16\n",
            "18\n",
            "20\n",
            "22\n",
            "24\n",
            "26\n",
            "28\n",
            "30\n",
            "32\n",
            "34\n",
            "36\n",
            "38\n",
            "40\n",
            "42\n",
            "44\n",
            "46\n",
            "48\n",
            "50\n",
            "52\n",
            "54\n",
            "56\n",
            "58\n",
            "60\n",
            "62\n",
            "64\n",
            "66\n",
            "68\n",
            "70\n",
            "72\n",
            "74\n",
            "76\n"
          ]
        }
      ]
    },
    {
      "cell_type": "markdown",
      "source": [
        "write a program to check whether the program is prime or not"
      ],
      "metadata": {
        "id": "idBqcLOguhfk"
      }
    },
    {
      "cell_type": "code",
      "source": [
        "num = int(input(\"Enter a number: \"))\n",
        "\n",
        "if num > 1:\n",
        "   for i in range(2,num):\n",
        "       if (num % i) == 0:\n",
        "           print(num,\"is not a prime number\")\n",
        "           print(i,\"times\",num//i,\"is\",num)\n",
        "           break\n",
        "   else:\n",
        "       print(num,\"is a prime number\")\n",
        "\n",
        "else:\n",
        "   print(num,\"is not a prime number\")"
      ],
      "metadata": {
        "colab": {
          "base_uri": "https://localhost:8080/"
        },
        "id": "jcpA1t4yvm9h",
        "outputId": "7f01e821-43c9-4745-d6d0-8c7f9216829f"
      },
      "execution_count": 40,
      "outputs": [
        {
          "output_type": "stream",
          "name": "stdout",
          "text": [
            "Enter a number: 23\n",
            "23 is a prime number\n"
          ]
        }
      ]
    },
    {
      "cell_type": "markdown",
      "source": [
        "write a progam to find sum of digits of a number accepted from user"
      ],
      "metadata": {
        "id": "WnDId8XbxWh8"
      }
    },
    {
      "cell_type": "code",
      "source": [
        "def sum_of_digits(number):\n",
        "    sum = 0\n",
        "    while number > 0:\n",
        "        digit = number % 10\n",
        "        sum += digit\n",
        "        number //= 10\n",
        "    return sum\n",
        "\n",
        "user_input = int(input(\"Enter a number: \"))\n",
        "\n",
        "result = sum_of_digits(user_input)\n",
        "\n",
        "print(\"The sum of the digits is:\", result)"
      ],
      "metadata": {
        "colab": {
          "base_uri": "https://localhost:8080/"
        },
        "id": "rMMe75VBxkru",
        "outputId": "f67ed033-66c2-4a7f-a71d-fd8c23783412"
      },
      "execution_count": 44,
      "outputs": [
        {
          "output_type": "stream",
          "name": "stdout",
          "text": [
            "Enter a number: 33\n",
            "The sum of the digits is: 6\n"
          ]
        }
      ]
    },
    {
      "cell_type": "markdown",
      "source": [
        "write a program to find product of a number accepted from user"
      ],
      "metadata": {
        "id": "klHBuuvPyqDr"
      }
    },
    {
      "cell_type": "code",
      "source": [
        "def product_of_digits(number):\n",
        "    product=1\n",
        "    while number > 0:\n",
        "        digit = number % 10\n",
        "        product *= digit\n",
        "        number //= 10\n",
        "\n",
        "\n",
        "    return product\n",
        "\n",
        "user_input = int(input(\"Enter a number: \"))\n",
        "\n",
        "result = product_of_digits(user_input)\n",
        "\n",
        "print(\"The product of the digits is:\", result)\n",
        "\n",
        ""
      ],
      "metadata": {
        "colab": {
          "base_uri": "https://localhost:8080/"
        },
        "id": "1wk6dyeVy2ht",
        "outputId": "5a350b4e-05cb-49c4-ee91-d14126a22f67"
      },
      "execution_count": 45,
      "outputs": [
        {
          "output_type": "stream",
          "name": "stdout",
          "text": [
            "Enter a number: 34\n",
            "The product of the digits is: 12\n"
          ]
        }
      ]
    },
    {
      "cell_type": "markdown",
      "source": [
        "write a program to reverse the number accepted from user"
      ],
      "metadata": {
        "id": "AVWJbpwczVov"
      }
    },
    {
      "cell_type": "code",
      "source": [
        "def reverse_number(number):\n",
        "  reversed_number = 0\n",
        "  while number > 0:\n",
        "    digit = number % 10\n",
        "    reversed_number = reversed_number * 10 + digit\n",
        "    number //= 10\n",
        "\n",
        "    return reversed_number\n",
        "\n",
        "user_input = int(input(\"Enter a number: \"))\n",
        "\n",
        "result = reverse_number(user_input)\n",
        "\n",
        "print(\"The reversed number is:\", result)\n",
        "\n",
        ""
      ],
      "metadata": {
        "colab": {
          "base_uri": "https://localhost:8080/"
        },
        "id": "hLJ-ZiKNztfb",
        "outputId": "9b74debe-9b47-4b00-b973-02fdfbd16e90"
      },
      "execution_count": 48,
      "outputs": [
        {
          "output_type": "stream",
          "name": "stdout",
          "text": [
            "Enter a number: 12\n",
            "The reversed number is: 2\n"
          ]
        }
      ]
    },
    {
      "cell_type": "markdown",
      "source": [
        "write a program to print fibonacci series"
      ],
      "metadata": {
        "id": "mx_OIdBI0u9v"
      }
    },
    {
      "cell_type": "code",
      "source": [
        "def fibonacci_series(n):\n",
        "  fibonacci_series =[0,1]\n",
        "  while len(fibonacci_series) < n:\n",
        "    next_number = fibonacci_series[-1] + fibonacci_series[-2]\n",
        "    fibonacci_series.append(next_number)\n",
        "  return fibonacci_series\n",
        "\n",
        "user_input = int(input(\"Enter the number of terms: \"))\n",
        "\n",
        "result = fibonacci_series(user_input)\n",
        "\n",
        "print(\"The Fibonacci series is:\", result)\n"
      ],
      "metadata": {
        "colab": {
          "base_uri": "https://localhost:8080/"
        },
        "id": "JEKFYE71070z",
        "outputId": "9ea81a88-f260-425b-cc23-dde5905339d8"
      },
      "execution_count": 50,
      "outputs": [
        {
          "output_type": "stream",
          "name": "stdout",
          "text": [
            "Enter the number of terms: 2\n",
            "The Fibonacci series is: [0, 1]\n"
          ]
        }
      ]
    },
    {
      "cell_type": "markdown",
      "source": [
        "write a program to print factorial of a number"
      ],
      "metadata": {
        "id": "vF_0LyTN1l4n"
      }
    },
    {
      "cell_type": "code",
      "source": [
        "def factorial(n):\n",
        "    if n == 0:\n",
        "        return 1\n",
        "    else:\n",
        "        return n * factorial(n - 1)\n",
        "\n",
        "# Accepting input from the user\n",
        "user_input = int(input(\"Enter a number: \"))\n",
        "\n",
        "# Calculating the factorial\n",
        "result = factorial(user_input)\n",
        "\n",
        "# Displaying the result\n",
        "print(\"The factorial of\", user_input, \"is:\", result)"
      ],
      "metadata": {
        "colab": {
          "base_uri": "https://localhost:8080/"
        },
        "id": "JAZ9F0Cs1su3",
        "outputId": "e7c2d19d-b0b4-42fb-c033-48e7d50388b5"
      },
      "execution_count": 54,
      "outputs": [
        {
          "output_type": "stream",
          "name": "stdout",
          "text": [
            "Enter a number: 4\n",
            "The factorial of 4 is: 24\n"
          ]
        }
      ]
    },
    {
      "cell_type": "markdown",
      "source": [
        "write  a program to check whether number is armstrong or not"
      ],
      "metadata": {
        "id": "r9NwY4Xb20I4"
      }
    },
    {
      "cell_type": "code",
      "source": [
        "num1 = input(\"Enter the number: \")\n",
        "p=0\n",
        "for i in num1:\n",
        "  p=p+int(i)**3\n",
        "if int(num1) == p:\n",
        "  print(\"Armstrong\")\n",
        "  print(\"armstrong\")\n",
        "else:\n",
        "  print(\"not armstrong\")"
      ],
      "metadata": {
        "colab": {
          "base_uri": "https://localhost:8080/"
        },
        "id": "S2QsUTi-5ysz",
        "outputId": "2da9992b-e2dd-4704-9656-160fe7fc5e2c"
      },
      "execution_count": 64,
      "outputs": [
        {
          "output_type": "stream",
          "name": "stdout",
          "text": [
            "Enter the number: 23\n",
            "not armstrong\n"
          ]
        }
      ]
    }
  ]
}