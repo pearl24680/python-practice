{
  "nbformat": 4,
  "nbformat_minor": 0,
  "metadata": {
    "colab": {
      "provenance": [],
      "authorship_tag": "ABX9TyNMeiZ9z8me7GynIoXsrrnj",
      "include_colab_link": true
    },
    "kernelspec": {
      "name": "python3",
      "display_name": "Python 3"
    },
    "language_info": {
      "name": "python"
    }
  },
  "cells": [
    {
      "cell_type": "markdown",
      "metadata": {
        "id": "view-in-github",
        "colab_type": "text"
      },
      "source": [
        "<a href=\"https://colab.research.google.com/github/pearl24680/python-practice/blob/main/python.ipynb\" target=\"_parent\"><img src=\"https://colab.research.google.com/assets/colab-badge.svg\" alt=\"Open In Colab\"/></a>"
      ]
    },
    {
      "cell_type": "markdown",
      "source": [
        " write a  Program to display some of odd numbers and even numbers separately that fall between 2 numbers expected from the user, including both numbers."
      ],
      "metadata": {
        "id": "f3fDb96uYf4c"
      }
    },
    {
      "cell_type": "code",
      "execution_count": 1,
      "metadata": {
        "colab": {
          "base_uri": "https://localhost:8080/"
        },
        "id": "e0hTLUb0Xq8M",
        "outputId": "3af3b92c-bb13-495e-bd1e-29c574eb1f21"
      },
      "outputs": [
        {
          "output_type": "stream",
          "name": "stdout",
          "text": [
            "Enter the starting number: 2\n",
            "Enter the ending number: 9\n",
            "Odd numbers: [3, 5, 7, 9]\n",
            "Even numbers: [2, 4, 6, 8]\n"
          ]
        }
      ],
      "source": [
        "def display_odd_even(start, end):\n",
        "    odd_numbers = []\n",
        "    even_numbers = []\n",
        "\n",
        "    for num in range(start, end + 1):\n",
        "        if num % 2 == 0:\n",
        "            even_numbers.append(num)\n",
        "        else:\n",
        "            odd_numbers.append(num)\n",
        "\n",
        "    print(\"Odd numbers:\", odd_numbers)\n",
        "    print(\"Even numbers:\", even_numbers)\n",
        "\n",
        "# Taking input from the user\n",
        "start = int(input(\"Enter the starting number: \"))\n",
        "end = int(input(\"Enter the ending number: \"))\n",
        "\n",
        "# Displaying odd and even numbers\n",
        "display_odd_even(start, end)"
      ]
    },
    {
      "cell_type": "markdown",
      "source": [
        "write a program  to display all numbers which are divisible by 13 but not by 3 btw 100 and 500"
      ],
      "metadata": {
        "id": "38yR5ywbav-Y"
      }
    },
    {
      "cell_type": "code",
      "source": [
        "for number in range(100, 501):\n",
        "    if number % 13 == 0 and number % 3 != 0:\n",
        "        print(number)"
      ],
      "metadata": {
        "colab": {
          "base_uri": "https://localhost:8080/"
        },
        "id": "ofj7Mb6QbfY4",
        "outputId": "c30b1f43-8d6a-4b7f-c8e9-0bcf160928a5"
      },
      "execution_count": 2,
      "outputs": [
        {
          "output_type": "stream",
          "name": "stdout",
          "text": [
            "104\n",
            "130\n",
            "143\n",
            "169\n",
            "182\n",
            "208\n",
            "221\n",
            "247\n",
            "260\n",
            "286\n",
            "299\n",
            "325\n",
            "338\n",
            "364\n",
            "377\n",
            "403\n",
            "416\n",
            "442\n",
            "455\n",
            "481\n",
            "494\n"
          ]
        }
      ]
    },
    {
      "cell_type": "markdown",
      "source": [
        "write a program to print the following series\n",
        "2,22,222,.......n terms"
      ],
      "metadata": {
        "id": "c5X2B6VfdX1i"
      }
    },
    {
      "cell_type": "code",
      "source": [
        "def print_series(n):\n",
        "    for i in range(1, n + 1):\n",
        "        print(\"2\" * i)\n",
        "\n",
        "# Taking input from the user\n",
        "n = int(input(\"Enter the number of terms: \"))\n",
        "\n",
        "# Printing the series\n",
        "print_series(n)"
      ],
      "metadata": {
        "colab": {
          "base_uri": "https://localhost:8080/"
        },
        "id": "PudphbGNdish",
        "outputId": "7c9f6bd2-9f9f-4c32-d173-e8db6d95ab97"
      },
      "execution_count": 3,
      "outputs": [
        {
          "output_type": "stream",
          "name": "stdout",
          "text": [
            "Enter the number of terms: 4\n",
            "2\n",
            "22\n",
            "222\n",
            "2222\n"
          ]
        }
      ]
    },
    {
      "cell_type": "markdown",
      "source": [
        "write a program to print the following series  1,4,9,...n terms"
      ],
      "metadata": {
        "id": "aG45-wJVeEgn"
      }
    },
    {
      "cell_type": "code",
      "source": [
        "def print_series(n):\n",
        "  for i in range (1,n+1):\n",
        "    print(i**2)\n",
        "\n",
        "\n",
        "n=int(input(\"enter the number of terms\"))\n",
        "print_series(n)\n",
        "\n"
      ],
      "metadata": {
        "colab": {
          "base_uri": "https://localhost:8080/"
        },
        "id": "OSA_nXP6eQ7B",
        "outputId": "30efe826-4174-49b2-d1e1-18d77c6f29a7"
      },
      "execution_count": 5,
      "outputs": [
        {
          "output_type": "stream",
          "name": "stdout",
          "text": [
            "enter the number of terms6\n",
            "1\n",
            "4\n",
            "9\n",
            "16\n",
            "25\n",
            "36\n"
          ]
        }
      ]
    },
    {
      "cell_type": "markdown",
      "source": [
        "write a program to print the following series   1+x/1!+x**2/2!+.......x**n/n!"
      ],
      "metadata": {
        "id": "5USU6cVWe5HZ"
      }
    },
    {
      "cell_type": "code",
      "source": [
        "def fac(n):\n",
        "  f=1\n",
        "  for i in range(1,n+1):\n",
        "    f=f*i\n",
        "    return f\n",
        "sum=1\n",
        "n=int(input(\"enter the value of n\"))\n",
        "x=int(input(\"enter the value of x\"))\n",
        "for i in range(1,n+1):\n",
        "  sum=sum+(x**i)/fac(i)\n",
        "print(sum)\n",
        ""
      ],
      "metadata": {
        "colab": {
          "base_uri": "https://localhost:8080/"
        },
        "id": "vlEgo_BWfTuB",
        "outputId": "dbba9535-d812-42db-caec-d616915b590b"
      },
      "execution_count": 6,
      "outputs": [
        {
          "output_type": "stream",
          "name": "stdout",
          "text": [
            "enter the value of n34\n",
            "enter the value of x9\n",
            "3.128944381241552e+32\n"
          ]
        }
      ]
    },
    {
      "cell_type": "markdown",
      "source": [
        "write a program to print the following series   1+8+27+......n terms"
      ],
      "metadata": {
        "id": "sxhWDMAIhJRP"
      }
    },
    {
      "cell_type": "code",
      "source": [
        "import math\n",
        "\n",
        "def print_series(x, n):\n",
        "    series_sum = 1  # Starting with the first term which is 1\n",
        "    term = 1  # This will hold the value of each term in the series\n",
        "\n",
        "    print(\"Series: 1\", end=\"\")\n",
        "\n",
        "    for i in range(1, n + 1):\n",
        "        term *= x / i  # Calculate the next term\n",
        "        series_sum += term\n",
        "        print(f\" + {x}^{i}/{i}!\", end=\"\")\n",
        "\n",
        "    print(f\"\\nSum of the series: {series_sum}\")\n",
        "\n",
        "# Example usage:\n",
        "x = float(input(\"Enter the value of x: \"))\n",
        "n = int(input(\"Enter the number of terms: \"))\n",
        "print_series(x, n)"
      ],
      "metadata": {
        "colab": {
          "base_uri": "https://localhost:8080/"
        },
        "id": "YAmywltslmVO",
        "outputId": "32a1e4cb-1347-449c-c28b-09e23157aa5a"
      },
      "execution_count": 7,
      "outputs": [
        {
          "output_type": "stream",
          "name": "stdout",
          "text": [
            "Enter the value of x: 2\n",
            "Enter the number of terms: 9\n",
            "Series: 1 + 2.0^1/1! + 2.0^2/2! + 2.0^3/3! + 2.0^4/4! + 2.0^5/5! + 2.0^6/6! + 2.0^7/7! + 2.0^8/8! + 2.0^9/9!\n",
            "Sum of the series: 7.3887125220458545\n"
          ]
        }
      ]
    },
    {
      "cell_type": "markdown",
      "source": [
        "write a program to print all the characters in string \"COMPUTER\" using for loop"
      ],
      "metadata": {
        "id": "4c15SDrOnHpr"
      }
    },
    {
      "cell_type": "code",
      "source": [
        "str =\"Computer\"\n",
        "for i in str:\n",
        "  print(i)"
      ],
      "metadata": {
        "colab": {
          "base_uri": "https://localhost:8080/"
        },
        "id": "TCIrLmYLndLG",
        "outputId": "8d5d17b8-480c-40bf-c3a4-2b965757d3c4"
      },
      "execution_count": 8,
      "outputs": [
        {
          "output_type": "stream",
          "name": "stdout",
          "text": [
            "C\n",
            "o\n",
            "m\n",
            "p\n",
            "u\n",
            "t\n",
            "e\n",
            "r\n"
          ]
        }
      ]
    }
  ]
}